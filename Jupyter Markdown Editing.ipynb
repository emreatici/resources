{
 "cells": [
  {
   "cell_type": "markdown",
   "id": "972f38e4",
   "metadata": {},
   "source": [
    "In this notebook you can find how to edit Markdown Cells."
   ]
  },
  {
   "cell_type": "code",
   "execution_count": null,
   "id": "bd597dca",
   "metadata": {},
   "outputs": [],
   "source": [
    "#Creating Heading"
   ]
  },
  {
   "cell_type": "markdown",
   "id": "79241209",
   "metadata": {},
   "source": [
    "# Heading One\n",
    "## Heading Two\n",
    "### Heading Three\n",
    "#### Heading Four"
   ]
  },
  {
   "cell_type": "code",
   "execution_count": null,
   "id": "92046cec",
   "metadata": {},
   "outputs": [],
   "source": [
    "#Bullet List "
   ]
  },
  {
   "cell_type": "markdown",
   "id": "6a6f5be5",
   "metadata": {},
   "source": [
    "* Bullet list\n",
    "* Bullet list\n",
    "* Bullet list"
   ]
  },
  {
   "cell_type": "code",
   "execution_count": null,
   "id": "68076149",
   "metadata": {},
   "outputs": [],
   "source": [
    "#Ordered List"
   ]
  },
  {
   "cell_type": "markdown",
   "id": "f65fe552",
   "metadata": {},
   "source": [
    "1. Here is\n",
    "2. an ordered\n",
    "3. list \n",
    "4. for you."
   ]
  },
  {
   "cell_type": "code",
   "execution_count": null,
   "id": "28f06c66",
   "metadata": {},
   "outputs": [],
   "source": [
    "#Bold Characters"
   ]
  },
  {
   "cell_type": "markdown",
   "id": "d8c03a21",
   "metadata": {},
   "source": [
    "**This is a bold sentence**"
   ]
  },
  {
   "cell_type": "code",
   "execution_count": null,
   "id": "6a9d1f8c",
   "metadata": {},
   "outputs": [],
   "source": [
    "#Italic Characters"
   ]
  },
  {
   "cell_type": "markdown",
   "id": "4034ddab",
   "metadata": {},
   "source": [
    "*This is an italic sentence*"
   ]
  },
  {
   "cell_type": "code",
   "execution_count": null,
   "id": "53a3de82",
   "metadata": {},
   "outputs": [],
   "source": [
    "#Highlight Code"
   ]
  },
  {
   "cell_type": "markdown",
   "id": "f27efc99",
   "metadata": {},
   "source": [
    "`This is an highlighted code!`"
   ]
  },
  {
   "cell_type": "code",
   "execution_count": null,
   "id": "3151500a",
   "metadata": {},
   "outputs": [],
   "source": [
    "#Add Horizontal Rule"
   ]
  },
  {
   "cell_type": "markdown",
   "id": "3c1788fa",
   "metadata": {},
   "source": [
    "***\n",
    "\n",
    "Here is an horizontal rule\n",
    "\n",
    "***"
   ]
  },
  {
   "cell_type": "code",
   "execution_count": null,
   "id": "63dddab4",
   "metadata": {},
   "outputs": [],
   "source": [
    "#Add Link"
   ]
  },
  {
   "cell_type": "markdown",
   "id": "1b8703c0",
   "metadata": {},
   "source": [
    "You can reach Jupyter web site from <a href=\"https://jupyter.org/\" target=\"_blank\">this link</a>."
   ]
  },
  {
   "cell_type": "code",
   "execution_count": null,
   "id": "f230f7e6",
   "metadata": {},
   "outputs": [],
   "source": [
    "#Add Image"
   ]
  },
  {
   "cell_type": "markdown",
   "id": "69e0e5f3",
   "metadata": {},
   "source": [
    "![Markdown Logo is here.](https://jupyter.org/assets/logos/rectanglelogo-greytext-orangebody-greymoons.svg)"
   ]
  }
 ],
 "metadata": {
  "kernelspec": {
   "display_name": "Python 3 (ipykernel)",
   "language": "python",
   "name": "python3"
  },
  "language_info": {
   "codemirror_mode": {
    "name": "ipython",
    "version": 3
   },
   "file_extension": ".py",
   "mimetype": "text/x-python",
   "name": "python",
   "nbconvert_exporter": "python",
   "pygments_lexer": "ipython3",
   "version": "3.9.7"
  }
 },
 "nbformat": 4,
 "nbformat_minor": 5
}
